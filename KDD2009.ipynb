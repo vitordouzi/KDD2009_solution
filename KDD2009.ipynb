{
 "cells": [
  {
   "cell_type": "markdown",
   "metadata": {},
   "source": [
    "# Exercício 1\n",
    "\n",
    "O KDD é, sem dúvida, uma das conferências de maior renome nas áreas acadêmica e industrial. Uma das tradicionais atividades propostas nesta conferência são as competições de aprendizagem de máquina que, em geral, utilizam dados reais disponibilizados por empresas interessadas nas soluções desenvolvidas por essa numericamente restrita, mas considerável comunidade acadêmica.\n",
    "\n",
    "O KDD cup de 2009 propõem um problema de classificação binária para 50k contas de cartão de crédito. Para tal, eles disponibilizaram dois datasets, um \"small\" e um \"large\", formados por 230 e 15k informações/atributos de cada uma dessas contas. O objetivo é predizer ações que os donos destas contas irão tomar considerando três possibilidades: cancelar uma conta, denominado churn; usar novos produtos/serviços, denominado appetency; e comprar upgrades, denominado (up-selling).\n",
    "\n",
    "Como solução para esse problema, dividi a tarefa de classificação/predição em 4 sub-tarefas que, ao meu ver, são igualmente relevantes para o desenvolvimento adequado da maioria dos problemas de classificação:\n",
    "\n",
    "1. Caracterização da coleção de dados;\n",
    "2. Preprocessamento e manipulação dos dados;\n",
    "3. Classificação;\n",
    "4. Avaliação dos resultados obtidos;\n",
    "\n",
    "Cada uma das sub-tarefas são apresentadas nas Seções sequentes e uma solução final é proposta considerando as melhores configurações experimentadas neste arquivo."
   ]
  },
  {
   "cell_type": "markdown",
   "metadata": {},
   "source": [
    "## Análise da Coleção de Dados\n",
    "\n",
    "Para propor soluções adequadas para cada problema, faz-se necessário compreender quais são as características principais da coleção de dados que se está usando. Para tanto, farei uso de ferramentas de análise de dados e manipulações matemáticas, como, por exemplo, DataFrames do pandas e o Numpy, para facilitar a implementação da solução.\n",
    "\n",
    "O pandas é um toolkit de abstração de estrutura de dados em matrizes indexadas. Em outras palavras, o pandas facilita manipulação por linha e/ou coluna de bases de dados estritamente grandes, disponibilizando funções eficiêntes para manipulações iterativas (e/ou paralelas) sob os dados.\n",
    "\n",
    "Além desses toolkits mencionais, uso sklearn e imbalanced-learn, especificamente, para subtarefas associadas a aprendizagem de máquina.\n",
    "\n",
    "### Aquisição da Coleção de Dados\n",
    "\n",
    "Farei uso da estrutura de dados DataFrame do pandas para importar os dados do problema em questão. Como os dados estão em formato tsv (separando cada atributo das instancias por tabulação), a importação é feita quase que de forma similar à chamada da função read_csv.\n",
    "\n",
    "Além disso, serão importados os dados relativos ao ground truth, ou seja, a resposta esperada para cada instância, considerando as três tarefas de predição possíveis: up-selling, appetency, e churn, denominados como y_upsell, y_appe e y_churn, respectivamente.\n",
    "\n",
    "Por questões de limite no armazenamento no github, os dados usados por esse arquivo não estão disponíveis a priori, mas podem ser baixados [aqui](https://drive.google.com/drive/folders/1oD__SautpLOYXpgV2S1S6Yw_i7XrIfND).\n",
    "\n",
    "Assim, primeiramente faça o donwload deles para o caminho \"data/small/\"."
   ]
  },
  {
   "cell_type": "code",
   "execution_count": 1,
   "metadata": {
    "collapsed": true
   },
   "outputs": [],
   "source": [
    "import pandas as pd\n",
    "import numpy as np\n",
    "\n",
    "import warnings\n",
    "warnings.filterwarnings('ignore')"
   ]
  },
  {
   "cell_type": "code",
   "execution_count": 2,
   "metadata": {
    "collapsed": true
   },
   "outputs": [],
   "source": [
    "X        = pd.read_csv('data/small/orange_small_train.data', sep='\\t')\n",
    "y_upsell = pd.read_csv('data/small/orange_small_train_upselling.labels', header=None)\n",
    "y_appe   = pd.read_csv('data/small/orange_small_train_appetency.labels', header=None)\n",
    "y_churn  = pd.read_csv('data/small/orange_small_train_churn.labels', header=None)"
   ]
  },
  {
   "cell_type": "markdown",
   "metadata": {},
   "source": [
    "### Características da Coleção de Dados\n",
    "\n",
    "Uma característica peculiar dessa coleção de dados é a grande quantidade de atributos ausentes ou nulos, representado nessa estrutuda como NaN (Not a Number). \n",
    "\n",
    "Inclusive, algumas colunas nunca sequer aperecem valores que não são NaN, como é o exemplo da coluna Var8 e Var230.\n",
    "\n",
    "Abaixo são apresentados as primeiras 5 instâncias (contas de cartão de crédito) da coleção de dados e seus atributos e a seguir a quantidade de NaN cada atributo tem."
   ]
  },
  {
   "cell_type": "code",
   "execution_count": 3,
   "metadata": {},
   "outputs": [
    {
     "data": {
      "text/html": [
       "<div>\n",
       "<style>\n",
       "    .dataframe thead tr:only-child th {\n",
       "        text-align: right;\n",
       "    }\n",
       "\n",
       "    .dataframe thead th {\n",
       "        text-align: left;\n",
       "    }\n",
       "\n",
       "    .dataframe tbody tr th {\n",
       "        vertical-align: top;\n",
       "    }\n",
       "</style>\n",
       "<table border=\"1\" class=\"dataframe\">\n",
       "  <thead>\n",
       "    <tr style=\"text-align: right;\">\n",
       "      <th></th>\n",
       "      <th>Var1</th>\n",
       "      <th>Var2</th>\n",
       "      <th>Var3</th>\n",
       "      <th>Var4</th>\n",
       "      <th>Var5</th>\n",
       "      <th>Var6</th>\n",
       "      <th>Var7</th>\n",
       "      <th>Var8</th>\n",
       "      <th>Var9</th>\n",
       "      <th>Var10</th>\n",
       "      <th>...</th>\n",
       "      <th>Var221</th>\n",
       "      <th>Var222</th>\n",
       "      <th>Var223</th>\n",
       "      <th>Var224</th>\n",
       "      <th>Var225</th>\n",
       "      <th>Var226</th>\n",
       "      <th>Var227</th>\n",
       "      <th>Var228</th>\n",
       "      <th>Var229</th>\n",
       "      <th>Var230</th>\n",
       "    </tr>\n",
       "  </thead>\n",
       "  <tbody>\n",
       "    <tr>\n",
       "      <th>0</th>\n",
       "      <td>NaN</td>\n",
       "      <td>NaN</td>\n",
       "      <td>NaN</td>\n",
       "      <td>NaN</td>\n",
       "      <td>NaN</td>\n",
       "      <td>1526.0</td>\n",
       "      <td>7.0</td>\n",
       "      <td>NaN</td>\n",
       "      <td>NaN</td>\n",
       "      <td>NaN</td>\n",
       "      <td>...</td>\n",
       "      <td>oslk</td>\n",
       "      <td>fXVEsaq</td>\n",
       "      <td>jySVZNlOJy</td>\n",
       "      <td>NaN</td>\n",
       "      <td>NaN</td>\n",
       "      <td>xb3V</td>\n",
       "      <td>RAYp</td>\n",
       "      <td>F2FyR07IdsN7I</td>\n",
       "      <td>NaN</td>\n",
       "      <td>NaN</td>\n",
       "    </tr>\n",
       "    <tr>\n",
       "      <th>1</th>\n",
       "      <td>NaN</td>\n",
       "      <td>NaN</td>\n",
       "      <td>NaN</td>\n",
       "      <td>NaN</td>\n",
       "      <td>NaN</td>\n",
       "      <td>525.0</td>\n",
       "      <td>0.0</td>\n",
       "      <td>NaN</td>\n",
       "      <td>NaN</td>\n",
       "      <td>NaN</td>\n",
       "      <td>...</td>\n",
       "      <td>oslk</td>\n",
       "      <td>2Kb5FSF</td>\n",
       "      <td>LM8l689qOp</td>\n",
       "      <td>NaN</td>\n",
       "      <td>NaN</td>\n",
       "      <td>fKCe</td>\n",
       "      <td>RAYp</td>\n",
       "      <td>F2FyR07IdsN7I</td>\n",
       "      <td>NaN</td>\n",
       "      <td>NaN</td>\n",
       "    </tr>\n",
       "    <tr>\n",
       "      <th>2</th>\n",
       "      <td>NaN</td>\n",
       "      <td>NaN</td>\n",
       "      <td>NaN</td>\n",
       "      <td>NaN</td>\n",
       "      <td>NaN</td>\n",
       "      <td>5236.0</td>\n",
       "      <td>7.0</td>\n",
       "      <td>NaN</td>\n",
       "      <td>NaN</td>\n",
       "      <td>NaN</td>\n",
       "      <td>...</td>\n",
       "      <td>Al6ZaUT</td>\n",
       "      <td>NKv4yOc</td>\n",
       "      <td>jySVZNlOJy</td>\n",
       "      <td>NaN</td>\n",
       "      <td>kG3k</td>\n",
       "      <td>Qu4f</td>\n",
       "      <td>02N6s8f</td>\n",
       "      <td>ib5G6X1eUxUn6</td>\n",
       "      <td>am7c</td>\n",
       "      <td>NaN</td>\n",
       "    </tr>\n",
       "    <tr>\n",
       "      <th>3</th>\n",
       "      <td>NaN</td>\n",
       "      <td>NaN</td>\n",
       "      <td>NaN</td>\n",
       "      <td>NaN</td>\n",
       "      <td>NaN</td>\n",
       "      <td>NaN</td>\n",
       "      <td>0.0</td>\n",
       "      <td>NaN</td>\n",
       "      <td>NaN</td>\n",
       "      <td>NaN</td>\n",
       "      <td>...</td>\n",
       "      <td>oslk</td>\n",
       "      <td>CE7uk3u</td>\n",
       "      <td>LM8l689qOp</td>\n",
       "      <td>NaN</td>\n",
       "      <td>NaN</td>\n",
       "      <td>FSa2</td>\n",
       "      <td>RAYp</td>\n",
       "      <td>F2FyR07IdsN7I</td>\n",
       "      <td>NaN</td>\n",
       "      <td>NaN</td>\n",
       "    </tr>\n",
       "    <tr>\n",
       "      <th>4</th>\n",
       "      <td>NaN</td>\n",
       "      <td>NaN</td>\n",
       "      <td>NaN</td>\n",
       "      <td>NaN</td>\n",
       "      <td>NaN</td>\n",
       "      <td>1029.0</td>\n",
       "      <td>7.0</td>\n",
       "      <td>NaN</td>\n",
       "      <td>NaN</td>\n",
       "      <td>NaN</td>\n",
       "      <td>...</td>\n",
       "      <td>oslk</td>\n",
       "      <td>1J2cvxe</td>\n",
       "      <td>LM8l689qOp</td>\n",
       "      <td>NaN</td>\n",
       "      <td>kG3k</td>\n",
       "      <td>FSa2</td>\n",
       "      <td>RAYp</td>\n",
       "      <td>F2FyR07IdsN7I</td>\n",
       "      <td>mj86</td>\n",
       "      <td>NaN</td>\n",
       "    </tr>\n",
       "  </tbody>\n",
       "</table>\n",
       "<p>5 rows × 230 columns</p>\n",
       "</div>"
      ],
      "text/plain": [
       "   Var1  Var2  Var3  Var4  Var5    Var6  Var7  Var8  Var9  Var10   ...    \\\n",
       "0   NaN   NaN   NaN   NaN   NaN  1526.0   7.0   NaN   NaN    NaN   ...     \n",
       "1   NaN   NaN   NaN   NaN   NaN   525.0   0.0   NaN   NaN    NaN   ...     \n",
       "2   NaN   NaN   NaN   NaN   NaN  5236.0   7.0   NaN   NaN    NaN   ...     \n",
       "3   NaN   NaN   NaN   NaN   NaN     NaN   0.0   NaN   NaN    NaN   ...     \n",
       "4   NaN   NaN   NaN   NaN   NaN  1029.0   7.0   NaN   NaN    NaN   ...     \n",
       "\n",
       "    Var221   Var222      Var223  Var224  Var225  Var226   Var227  \\\n",
       "0     oslk  fXVEsaq  jySVZNlOJy     NaN     NaN    xb3V     RAYp   \n",
       "1     oslk  2Kb5FSF  LM8l689qOp     NaN     NaN    fKCe     RAYp   \n",
       "2  Al6ZaUT  NKv4yOc  jySVZNlOJy     NaN    kG3k    Qu4f  02N6s8f   \n",
       "3     oslk  CE7uk3u  LM8l689qOp     NaN     NaN    FSa2     RAYp   \n",
       "4     oslk  1J2cvxe  LM8l689qOp     NaN    kG3k    FSa2     RAYp   \n",
       "\n",
       "          Var228  Var229  Var230  \n",
       "0  F2FyR07IdsN7I     NaN     NaN  \n",
       "1  F2FyR07IdsN7I     NaN     NaN  \n",
       "2  ib5G6X1eUxUn6    am7c     NaN  \n",
       "3  F2FyR07IdsN7I     NaN     NaN  \n",
       "4  F2FyR07IdsN7I    mj86     NaN  \n",
       "\n",
       "[5 rows x 230 columns]"
      ]
     },
     "execution_count": 3,
     "metadata": {},
     "output_type": "execute_result"
    }
   ],
   "source": [
    "X.head(n=5)"
   ]
  },
  {
   "cell_type": "code",
   "execution_count": 4,
   "metadata": {},
   "outputs": [
    {
     "name": "stdout",
     "output_type": "stream",
     "text": [
      " Coluna Var1 tem 49298 NaN (98.60%)\n",
      " Coluna Var2 tem 48759 NaN (97.52%)\n",
      " Coluna Var3 tem 48760 NaN (97.52%)\n",
      " Coluna Var4 tem 48421 NaN (96.84%)\n",
      " Coluna Var5 tem 48513 NaN (97.03%)\n",
      " Coluna Var6 tem 5529 NaN (11.06%)\n",
      " Coluna Var7 tem 5539 NaN (11.08%)\n",
      " Coluna Var8 tem 50000 NaN (100.00%)\n",
      " Coluna Var9 tem 49298 NaN (98.60%)\n",
      " Coluna Var10 tem 48513 NaN (97.03%)\n",
      " Coluna Var11 tem 48760 NaN (97.52%)\n",
      " Coluna Var12 tem 49442 NaN (98.88%)\n",
      " Coluna Var13 tem 5539 NaN (11.08%)\n",
      " Coluna Var14 tem 48760 NaN (97.52%)\n",
      " Coluna Var15 tem 50000 NaN (100.00%)\n",
      " Coluna Var16 tem 48513 NaN (97.03%)\n",
      " Coluna Var17 tem 48421 NaN (96.84%)\n",
      " Coluna Var18 tem 48421 NaN (96.84%)\n",
      " Coluna Var19 tem 48421 NaN (96.84%)\n",
      " Coluna Var20 tem 50000 NaN (100.00%)\n",
      " Coluna Var21 tem 5529 NaN (11.06%)\n",
      " Coluna Var22 tem 5009 NaN (10.02%)\n",
      " Coluna Var23 tem 48513 NaN (97.03%)\n",
      " Coluna Var24 tem 7230 NaN (14.46%)\n",
      " Coluna Var25 tem 5009 NaN (10.02%)\n",
      " Coluna Var26 tem 48513 NaN (97.03%)\n",
      " Coluna Var27 tem 48513 NaN (97.03%)\n",
      " Coluna Var28 tem 5011 NaN (10.02%)\n",
      " Coluna Var29 tem 49298 NaN (98.60%)\n",
      " Coluna Var30 tem 49298 NaN (98.60%)\n",
      " Coluna Var31 tem 50000 NaN (100.00%)\n",
      " Coluna Var32 tem 50000 NaN (100.00%)\n",
      " Coluna Var33 tem 49153 NaN (98.31%)\n",
      " Coluna Var34 tem 48759 NaN (97.52%)\n",
      " Coluna Var35 tem 5009 NaN (10.02%)\n",
      " Coluna Var36 tem 48759 NaN (97.52%)\n",
      " Coluna Var37 tem 48421 NaN (96.84%)\n",
      " Coluna Var38 tem 5009 NaN (10.02%)\n",
      " Coluna Var39 tem 50000 NaN (100.00%)\n",
      " Coluna Var40 tem 48759 NaN (97.52%)\n",
      " Coluna Var41 tem 49298 NaN (98.60%)\n",
      " Coluna Var42 tem 50000 NaN (100.00%)\n",
      " Coluna Var43 tem 48759 NaN (97.52%)\n",
      " Coluna Var44 tem 5009 NaN (10.02%)\n",
      " Coluna Var45 tem 49656 NaN (99.31%)\n",
      " Coluna Var46 tem 48759 NaN (97.52%)\n",
      " Coluna Var47 tem 49298 NaN (98.60%)\n",
      " Coluna Var48 tem 50000 NaN (100.00%)\n",
      " Coluna Var49 tem 48759 NaN (97.52%)\n",
      " Coluna Var50 tem 49298 NaN (98.60%)\n",
      " Coluna Var51 tem 46253 NaN (92.51%)\n",
      " Coluna Var52 tem 50000 NaN (100.00%)\n",
      " Coluna Var53 tem 49298 NaN (98.60%)\n",
      " Coluna Var54 tem 48759 NaN (97.52%)\n",
      " Coluna Var55 tem 50000 NaN (100.00%)\n",
      " Coluna Var56 tem 49354 NaN (98.71%)\n",
      " Coluna Var57 tem 0 NaN (0.00%)\n",
      " Coluna Var58 tem 49298 NaN (98.60%)\n",
      " Coluna Var59 tem 49180 NaN (98.36%)\n",
      " Coluna Var60 tem 48513 NaN (97.03%)\n",
      " Coluna Var61 tem 49153 NaN (98.31%)\n",
      " Coluna Var62 tem 49442 NaN (98.88%)\n",
      " Coluna Var63 tem 49306 NaN (98.61%)\n",
      " Coluna Var64 tem 49762 NaN (99.52%)\n",
      " Coluna Var65 tem 5539 NaN (11.08%)\n",
      " Coluna Var66 tem 49306 NaN (98.61%)\n",
      " Coluna Var67 tem 48513 NaN (97.03%)\n",
      " Coluna Var68 tem 48759 NaN (97.52%)\n",
      " Coluna Var69 tem 48513 NaN (97.03%)\n",
      " Coluna Var70 tem 48513 NaN (97.03%)\n",
      " Coluna Var71 tem 48871 NaN (97.74%)\n",
      " Coluna Var72 tem 22380 NaN (44.76%)\n",
      " Coluna Var73 tem 0 NaN (0.00%)\n",
      " Coluna Var74 tem 5539 NaN (11.08%)\n",
      " Coluna Var75 tem 48759 NaN (97.52%)\n",
      " Coluna Var76 tem 5009 NaN (10.02%)\n",
      " Coluna Var77 tem 49298 NaN (98.60%)\n",
      " Coluna Var78 tem 5009 NaN (10.02%)\n",
      " Coluna Var79 tem 50000 NaN (100.00%)\n",
      " Coluna Var80 tem 48513 NaN (97.03%)\n",
      " Coluna Var81 tem 5529 NaN (11.06%)\n",
      " Coluna Var82 tem 48421 NaN (96.84%)\n",
      " Coluna Var83 tem 5009 NaN (10.02%)\n",
      " Coluna Var84 tem 48760 NaN (97.52%)\n",
      " Coluna Var85 tem 5009 NaN (10.02%)\n",
      " Coluna Var86 tem 49298 NaN (98.60%)\n",
      " Coluna Var87 tem 49298 NaN (98.60%)\n",
      " Coluna Var88 tem 48917 NaN (97.83%)\n",
      " Coluna Var89 tem 49354 NaN (98.71%)\n",
      " Coluna Var90 tem 49298 NaN (98.60%)\n",
      " Coluna Var91 tem 48871 NaN (97.74%)\n",
      " Coluna Var92 tem 49829 NaN (99.66%)\n",
      " Coluna Var93 tem 48513 NaN (97.03%)\n",
      " Coluna Var94 tem 22380 NaN (44.76%)\n",
      " Coluna Var95 tem 48759 NaN (97.52%)\n",
      " Coluna Var96 tem 48759 NaN (97.52%)\n",
      " Coluna Var97 tem 48513 NaN (97.03%)\n",
      " Coluna Var98 tem 49442 NaN (98.88%)\n",
      " Coluna Var99 tem 48421 NaN (96.84%)\n",
      " Coluna Var100 tem 49298 NaN (98.60%)\n",
      " Coluna Var101 tem 49127 NaN (98.25%)\n",
      " Coluna Var102 tem 49549 NaN (99.10%)\n",
      " Coluna Var103 tem 48513 NaN (97.03%)\n",
      " Coluna Var104 tem 49180 NaN (98.36%)\n",
      " Coluna Var105 tem 49180 NaN (98.36%)\n",
      " Coluna Var106 tem 48421 NaN (96.84%)\n",
      " Coluna Var107 tem 48513 NaN (97.03%)\n",
      " Coluna Var108 tem 49298 NaN (98.60%)\n",
      " Coluna Var109 tem 7230 NaN (14.46%)\n",
      " Coluna Var110 tem 49298 NaN (98.60%)\n",
      " Coluna Var111 tem 48871 NaN (97.74%)\n",
      " Coluna Var112 tem 5009 NaN (10.02%)\n",
      " Coluna Var113 tem 0 NaN (0.00%)\n",
      " Coluna Var114 tem 48759 NaN (97.52%)\n",
      " Coluna Var115 tem 49180 NaN (98.36%)\n",
      " Coluna Var116 tem 49298 NaN (98.60%)\n",
      " Coluna Var117 tem 48421 NaN (96.84%)\n",
      " Coluna Var118 tem 49829 NaN (99.66%)\n",
      " Coluna Var119 tem 5529 NaN (11.06%)\n",
      " Coluna Var120 tem 48513 NaN (97.03%)\n",
      " Coluna Var121 tem 49298 NaN (98.60%)\n",
      " Coluna Var122 tem 48759 NaN (97.52%)\n",
      " Coluna Var123 tem 5009 NaN (10.02%)\n",
      " Coluna Var124 tem 48421 NaN (96.84%)\n",
      " Coluna Var125 tem 5539 NaN (11.08%)\n",
      " Coluna Var126 tem 13920 NaN (27.84%)\n",
      " Coluna Var127 tem 48917 NaN (97.83%)\n",
      " Coluna Var128 tem 48917 NaN (97.83%)\n",
      " Coluna Var129 tem 49298 NaN (98.60%)\n",
      " Coluna Var130 tem 48760 NaN (97.52%)\n",
      " Coluna Var131 tem 49298 NaN (98.60%)\n",
      " Coluna Var132 tem 5009 NaN (10.02%)\n",
      " Coluna Var133 tem 5009 NaN (10.02%)\n",
      " Coluna Var134 tem 5009 NaN (10.02%)\n",
      " Coluna Var135 tem 48421 NaN (96.84%)\n",
      " Coluna Var136 tem 49306 NaN (98.61%)\n",
      " Coluna Var137 tem 49298 NaN (98.60%)\n",
      " Coluna Var138 tem 48421 NaN (96.84%)\n",
      " Coluna Var139 tem 48513 NaN (97.03%)\n",
      " Coluna Var140 tem 5539 NaN (11.08%)\n",
      " Coluna Var141 tem 50000 NaN (100.00%)\n",
      " Coluna Var142 tem 49298 NaN (98.60%)\n",
      " Coluna Var143 tem 5009 NaN (10.02%)\n",
      " Coluna Var144 tem 5529 NaN (11.06%)\n",
      " Coluna Var145 tem 48421 NaN (96.84%)\n",
      " Coluna Var146 tem 48513 NaN (97.03%)\n",
      " Coluna Var147 tem 48513 NaN (97.03%)\n",
      " Coluna Var148 tem 48513 NaN (97.03%)\n",
      " Coluna Var149 tem 7230 NaN (14.46%)\n",
      " Coluna Var150 tem 48421 NaN (96.84%)\n",
      " Coluna Var151 tem 49153 NaN (98.31%)\n",
      " Coluna Var152 tem 48421 NaN (96.84%)\n",
      " Coluna Var153 tem 5009 NaN (10.02%)\n",
      " Coluna Var154 tem 49298 NaN (98.60%)\n",
      " Coluna Var155 tem 48421 NaN (96.84%)\n",
      " Coluna Var156 tem 49306 NaN (98.61%)\n",
      " Coluna Var157 tem 48871 NaN (97.74%)\n",
      " Coluna Var158 tem 49127 NaN (98.25%)\n",
      " Coluna Var159 tem 48759 NaN (97.52%)\n",
      " Coluna Var160 tem 5009 NaN (10.02%)\n",
      " Coluna Var161 tem 48421 NaN (96.84%)\n",
      " Coluna Var162 tem 48759 NaN (97.52%)\n",
      " Coluna Var163 tem 5009 NaN (10.02%)\n",
      " Coluna Var164 tem 48421 NaN (96.84%)\n",
      " Coluna Var165 tem 49127 NaN (98.25%)\n",
      " Coluna Var166 tem 48513 NaN (97.03%)\n",
      " Coluna Var167 tem 50000 NaN (100.00%)\n",
      " Coluna Var168 tem 49298 NaN (98.60%)\n",
      " Coluna Var169 tem 50000 NaN (100.00%)\n",
      " Coluna Var170 tem 48759 NaN (97.52%)\n",
      " Coluna Var171 tem 48917 NaN (97.83%)\n",
      " Coluna Var172 tem 48513 NaN (97.03%)\n",
      " Coluna Var173 tem 5009 NaN (10.02%)\n",
      " Coluna Var174 tem 48421 NaN (96.84%)\n",
      " Coluna Var175 tem 50000 NaN (100.00%)\n",
      " Coluna Var176 tem 48760 NaN (97.52%)\n",
      " Coluna Var177 tem 48759 NaN (97.52%)\n",
      " Coluna Var178 tem 49354 NaN (98.71%)\n",
      " Coluna Var179 tem 48421 NaN (96.84%)\n",
      " Coluna Var180 tem 49298 NaN (98.60%)\n",
      " Coluna Var181 tem 5009 NaN (10.02%)\n",
      " Coluna Var182 tem 48421 NaN (96.84%)\n",
      " Coluna Var183 tem 48759 NaN (97.52%)\n",
      " Coluna Var184 tem 48759 NaN (97.52%)\n",
      " Coluna Var185 tem 50000 NaN (100.00%)\n",
      " Coluna Var186 tem 49298 NaN (98.60%)\n",
      " Coluna Var187 tem 49298 NaN (98.60%)\n",
      " Coluna Var188 tem 48759 NaN (97.52%)\n",
      " Coluna Var189 tem 28978 NaN (57.96%)\n",
      " Coluna Var190 tem 49667 NaN (99.33%)\n",
      " Coluna Var191 tem 48917 NaN (97.83%)\n",
      " Coluna Var192 tem 369 NaN (0.74%)\n",
      " Coluna Var193 tem 0 NaN (0.00%)\n",
      " Coluna Var194 tem 37216 NaN (74.43%)\n",
      " Coluna Var195 tem 0 NaN (0.00%)\n",
      " Coluna Var196 tem 0 NaN (0.00%)\n",
      " Coluna Var197 tem 143 NaN (0.29%)\n",
      " Coluna Var198 tem 0 NaN (0.00%)\n",
      " Coluna Var199 tem 4 NaN (0.01%)\n",
      " Coluna Var200 tem 25408 NaN (50.82%)\n",
      " Coluna Var201 tem 37217 NaN (74.43%)\n",
      " Coluna Var202 tem 1 NaN (0.00%)\n",
      " Coluna Var203 tem 143 NaN (0.29%)\n",
      " Coluna Var204 tem 0 NaN (0.00%)\n",
      " Coluna Var205 tem 1934 NaN (3.87%)\n",
      " Coluna Var206 tem 5529 NaN (11.06%)\n",
      " Coluna Var207 tem 0 NaN (0.00%)\n",
      " Coluna Var208 tem 143 NaN (0.29%)\n",
      " Coluna Var209 tem 50000 NaN (100.00%)\n",
      " Coluna Var210 tem 0 NaN (0.00%)\n",
      " Coluna Var211 tem 0 NaN (0.00%)\n",
      " Coluna Var212 tem 0 NaN (0.00%)\n",
      " Coluna Var213 tem 48871 NaN (97.74%)\n",
      " Coluna Var214 tem 25408 NaN (50.82%)\n",
      " Coluna Var215 tem 49306 NaN (98.61%)\n",
      " Coluna Var216 tem 0 NaN (0.00%)\n",
      " Coluna Var217 tem 703 NaN (1.41%)\n",
      " Coluna Var218 tem 703 NaN (1.41%)\n",
      " Coluna Var219 tem 5211 NaN (10.42%)\n",
      " Coluna Var220 tem 0 NaN (0.00%)\n",
      " Coluna Var221 tem 0 NaN (0.00%)\n",
      " Coluna Var222 tem 0 NaN (0.00%)\n",
      " Coluna Var223 tem 5211 NaN (10.42%)\n",
      " Coluna Var224 tem 49180 NaN (98.36%)\n",
      " Coluna Var225 tem 26144 NaN (52.29%)\n",
      " Coluna Var226 tem 0 NaN (0.00%)\n",
      " Coluna Var227 tem 0 NaN (0.00%)\n",
      " Coluna Var228 tem 0 NaN (0.00%)\n",
      " Coluna Var229 tem 28432 NaN (56.86%)\n",
      " Coluna Var230 tem 50000 NaN (100.00%)\n"
     ]
    }
   ],
   "source": [
    "for col in X:\n",
    "    n_nan = X[col].isnull().sum()\n",
    "    print(\" Coluna %s tem %d NaN (%.2f%%)\" % (col, n_nan, 100.*n_nan/len(X[col])))"
   ]
  },
  {
   "cell_type": "markdown",
   "metadata": {},
   "source": [
    "Outra importante caracterização que se pode fazer sob os dados é o tipo que eles são representados. Como descrito na apresentação dos dados do problema na página do [KDD Cup 2009](http://www.kdd.org/kdd-cup/view/kdd-cup-2009/Data), essa versão small dos dados consiste de 190 atributos numéricos (com os mais variados intervalos) e 40 atributos categóricos.\n",
    "\n",
    "Considerando que não sabemos o significado de cada um dos atributos, vou selecionar o atributo \"Var16\" casos para exemplificar a distribuição."
   ]
  },
  {
   "cell_type": "code",
   "execution_count": 5,
   "metadata": {},
   "outputs": [
    {
     "data": {
      "text/plain": [
       "<matplotlib.axes._subplots.AxesSubplot at 0x7f0be78a3940>"
      ]
     },
     "execution_count": 5,
     "metadata": {},
     "output_type": "execute_result"
    },
    {
     "data": {
      "image/png": "[encoded data removed]",
      "text/plain": [
       "<matplotlib.figure.Figure at 0x7f0bedb7e780>"
      ]
     },
     "metadata": {},
     "output_type": "display_data"
    }
   ],
   "source": [
    "%matplotlib inline\n",
    "X['Var16'].hist()"
   ]
  },
  {
   "cell_type": "code",
   "execution_count": 6,
   "metadata": {
    "collapsed": true
   },
   "outputs": [],
   "source": [
    "num_columns = ['Var%d' % d for d in range(1,191)]   # Nome dos atributos numéricos\n",
    "cat_columns = ['Var%d' % d for d in range(191,231)] # Nome dos atributos categóricos \n",
    "X[num_columns] = X[num_columns].astype(np.float64)  # Atributos numéricos\n",
    "X[cat_columns] = X[cat_columns].astype(np.str)      # Atributos categóricos"
   ]
  },
  {
   "cell_type": "markdown",
   "metadata": {},
   "source": [
    "Como já mencionado, a coleção de dados consiste, então, de 230 atributos, sendo 40 categóricos e 190 numéricos, podendo conter, para algumas instâncias valores ausententes de atributos, viéses e, até mesmo, atributos completamentes ausentes em todas as instâncias. Trata-se, portanto, de uma coleção de dados esparsa, sendo necessário uso de manipulação durante o preprocessamento para adequar os dados às diferentes abordagens de classificação.\n",
    "\n",
    "Além disso, as classes a serem preditas são também desbalanceadas, havendo uma discrepancia grande entre a quantidade de instâncias positivas da quantidade de instâncias negativas na coleção. Isso fica evidênte ao observarmos o histograma das frequências de cada uma das ações possíveis no problema, que é apresentado abaixo."
   ]
  },
  {
   "cell_type": "code",
   "execution_count": 7,
   "metadata": {},
   "outputs": [
    {
     "data": {
      "text/plain": [
       "Text(0.5,0.98,'Up-selling')"
      ]
     },
     "execution_count": 7,
     "metadata": {},
     "output_type": "execute_result"
    },
    {
     "data": {
      "image/png": "[encoded data removed]",
      "text/plain": [
       "<matplotlib.figure.Figure at 0x7f0be78ba5f8>"
      ]
     },
     "metadata": {},
     "output_type": "display_data"
    },
    {
     "data": {
      "image/png": "[encoded data removed]",
      "text/plain": [
       "<matplotlib.figure.Figure at 0x7f0be250c668>"
      ]
     },
     "metadata": {},
     "output_type": "display_data"
    },
    {
     "data": {
      "image/png": "[encoded data removed]",
      "text/plain": [
       "<matplotlib.figure.Figure at 0x7f0bddc606d8>"
      ]
     },
     "metadata": {},
     "output_type": "display_data"
    }
   ],
   "source": [
    "import pylab as pl\n",
    "\n",
    "y_appe.hist()\n",
    "pl.suptitle('Appetency')\n",
    "\n",
    "y_churn.hist()\n",
    "pl.suptitle('Churn')\n",
    "\n",
    "y_upsell.hist()\n",
    "pl.suptitle('Up-selling')"
   ]
  },
  {
   "cell_type": "markdown",
   "metadata": {},
   "source": [
    "## Preprocessamento\n",
    "\n",
    "Como visto, a coleção de dados usada está, consideravelmente, não padronizada. Nessa fase, portanto, faz-se uso de funções de transformações dos dados, adenquando-os aos classificadores usados.\n",
    "\n",
    "### Encoder\n",
    "\n",
    "O encoder é responsável por converter valores de atributos categóricos para o formato aceito pelos classificadores usados para essa solução: atributos numérico. Aja vista que alguns classificadores permitem predição (ou até mesmo são restritos a predição) de instâncias com atributos categóricos, vou, por questões de restrição do número de combinações, converter os atributos categóricos desta base de dados para numéricos usando LabelEncoder(), restringindo, assim, o número de algoritmos de classificação a se experimentar.\n",
    "\n",
    "O LabelEncoder é um tipo de tranformação que se aplica sob os dados para converter as n categorias encontradas na série de instâncias em n-1 valores numéricos. Dessa forma, essa transformação mapeia cada um das N possiveis categorias (que, aqui incluem NaN como uma possibilidade) em um valor inteiro entre 0 e N-1.\n",
    "\n",
    "Como as implementações default de Encoding consideram como argumento apenas uma serie de valores categóricos e adiante farei uso de Pipelines para otimizar a execução da solução proposta, faço uso de uma implementação de encoding que leva em consideração um DataFrame como entrada. Essa implementação facilita também o encoding de conjuntos restritos de atributos a serem codificados, podendo, por exemplo, mapear apenas um subconjunto dos atributos do DataFrame, que é exatamente o caso que estamos tratando, onde apenas os ultimos 40 atritubos são categóricos. "
   ]
  },
  {
   "cell_type": "code",
   "execution_count": 8,
   "metadata": {
    "collapsed": true
   },
   "outputs": [],
   "source": [
    "from sklearn.preprocessing import LabelEncoder"
   ]
  },
  {
   "cell_type": "code",
   "execution_count": 9,
   "metadata": {
    "collapsed": true
   },
   "outputs": [],
   "source": [
    "class MultiColumnLabelEncoder:\n",
    "    def __init__(self,columns = None):\n",
    "        self.columns = columns # array of column names to encode\n",
    "\n",
    "    def fit(self,X,y=None):\n",
    "        return self # not relevant here\n",
    "\n",
    "    def transform(self,X):\n",
    "        '''\n",
    "        Transforms columns of X specified in self.columns using\n",
    "        LabelEncoder(). If no columns specified, transforms all\n",
    "        columns in X.\n",
    "        '''\n",
    "        output = X.copy()\n",
    "        if self.columns is not None:\n",
    "            for col in self.columns:\n",
    "                output[col] = LabelEncoder().fit_transform(output[col])\n",
    "        else:\n",
    "            for colname,col in output.iteritems():\n",
    "                output[colname] = LabelEncoder().fit_transform(col)\n",
    "        return output\n",
    "\n",
    "    def fit_transform(self,X,y=None):\n",
    "        return self.fit(X,y).transform(X)"
   ]
  },
  {
   "cell_type": "code",
   "execution_count": 10,
   "metadata": {
    "collapsed": true
   },
   "outputs": [],
   "source": [
    "multi_encoder = MultiColumnLabelEncoder(columns=cat_columns)"
   ]
  },
  {
   "cell_type": "markdown",
   "metadata": {},
   "source": [
    "### Imputer\n",
    "\n",
    "O imputer é outra transformação relevante para solução, uma vez que converte os valores não numéricos restantes (os NaN) em valores interpretáveis pelos classificadores usados. Esse método permite que se escolha entre diferentes estratégias de conversão para valores numéricos. Entre as possiveis abordagens de conversão têm a média, mediana e a moda dos dados.\n",
    "\n",
    "Além disso, pode-se configurar essa estratégia para executar sob todos os atributos de uma mesma instância ou em todos os valores de um mesmo atributo na base de dados, sendo que serão considerados apenas os valores que são numéricos.\n",
    "\n",
    "Para essa transformação, fiz a escolha de converter valores NaN pela média dos atributos numéricos da instância, uma vez que, como mencionado anteriormente, alguns atributos não possuem sequer um valor numérico (como é o exemplo do atributo Var8).\n",
    "\n",
    "Poderia primeiramente remover esses atributos que são baseados apenas por NaNs. Contudo, de qualquer forma, imagino que a normalização pela média da instância faz mais sentido, uma vez que isso aumentaria a variância dos valores para cada um dos atributos e que, mesmo podendo ser um atributo irrelevante para a classificação, posteriormente será executada uma seleção de atributos que removerá, caso necessário, tais atributos irrelevantes para a classificação."
   ]
  },
  {
   "cell_type": "code",
   "execution_count": 11,
   "metadata": {
    "collapsed": true
   },
   "outputs": [],
   "source": [
    "from sklearn.preprocessing import Imputer, MinMaxScaler, RobustScaler\n",
    "imputer = Imputer(missing_values=np.NAN, axis=1)"
   ]
  },
  {
   "cell_type": "markdown",
   "metadata": {},
   "source": [
    "### Escalares\n",
    "\n",
    "A maioria dos algoritmos de classificação funcionam melhor se a escala dos valores numéricos for mais comportada. Ou seja, espera-se que os valores estejam com intervalos bem definidos ou com distribuição mais discrepante em relação as predições esperadas. Assim, essa tarefa visa transformar os valores numéricos com intervalos muito discriminantes em intervalos comportados, como, por exemplo, com valores entre 0 e 1.\n",
    "\n",
    "Dessa forma, faremos uso de duas transformações sob os dados: MinMax e Robust. A primeira converte os valores dos atributos para o intervalo [0,1] dividindo os valores pelo maior valor encontrado na transformação. Obviamente valores fora desse intervalo esperado podem ser encontrados na fase de teste, assim, aplicamos a outra transformação sob os dados, que visa normalizar tais valores considerados outliers e distribuir, de maneira mais uniforme, os valores dos atributos na coleção. Outiliers são valores atipicos encontrados na coleção de dados. Esses valores podem prejudicar a predição, uma vez que podem confundir a modelagem da função objetivo, ou até mesmo, na predição das instâncias de teste.\n",
    "\n",
    "Essa transformação em questão utiliza o IQR (ou, Interquartile Range do 1º e 3º quartil) que é uma estratégia de determinação de intervalos menos dependente de outliers, uma vez que as estratégias usuais levam em consideração a média e/ou o desvio padrão."
   ]
  },
  {
   "cell_type": "code",
   "execution_count": 12,
   "metadata": {
    "collapsed": true
   },
   "outputs": [],
   "source": [
    "from sklearn.preprocessing import MinMaxScaler, RobustScaler\n",
    "minmax_scalar = MinMaxScaler()\n",
    "robust_scalar = RobustScaler()"
   ]
  },
  {
   "cell_type": "markdown",
   "metadata": {},
   "source": [
    "### Validação Cruzada com Amostragem Estratificada\n",
    "\n",
    "Um dos problemas mais tradicionais de abordagens de aprendizagem de máquina é o overfitting (ou, da terrível tradução, sobreajuste). O overfitting acontece quando o algoritmo de aprendizagem de máquina ajusta o modelo treinado, de forma tão consistente, que se mostra ineficaz na predição de instâncias não usadas na fase de treino.\n",
    "\n",
    "RandomForest é um exemplo de abordagem que, se não manipulado com a devida cautela, pode sobreajustar aos dados, tornando-o inviável na predição de novas instâncias.\n",
    "\n",
    "Assim, uma solução para se obter resultados mais confiáveis das predições é por meio do uso de validação cruzada para o treino e, até mesmo, avaliação de modelos. A validação cruzada consiste de dividir os dados de treino em K partes (denomiandas folds), onde serão usados K-1 partes dos dados para o treino do modelo e a parte sobressalente para o teste. O resultado final são K modelos e K resultados que descrevem, com maior confiança e menor variancia, o resultado esperado para os dados em questão.\n",
    "\n",
    "Ademais, validação cruzada pode ser um grande problema quando não levamos em consideração o viés do valor esperado. Por exemplo, para um determinado fold, podemos ter uma quantidade muito pequena de instâncias positivas, prejudicando o treino do modelo, ou até mesmo, a avaliação adequada do resultado.\n",
    "\n",
    "Assim, usei, para o treino e também para a avaliação, a amostragem estratificada (StratifiedKFold), que visa dividir igualmente a quantidade de instâncias poositivas entre os folds. Este algoritmo de validação cruzada tende a beneficiar também as fases de seleção de atributos e de over samplings, que serão descritas adiante.\n",
    "\n",
    "Para garantir uma replicabilidade dos resultados, que são definidos por abordagens estatísticas, fixamos o estado inicial dos métodos que fazem uso de inicialização aleatória para 42 (que é o significado da vida, do universo e tudo mais)."
   ]
  },
  {
   "cell_type": "code",
   "execution_count": 13,
   "metadata": {
    "collapsed": true
   },
   "outputs": [],
   "source": [
    "from sklearn.model_selection import StratifiedKFold, cross_val_score\n",
    "cv = StratifiedKFold(n_splits=5, random_state=42)"
   ]
  },
  {
   "cell_type": "markdown",
   "metadata": {},
   "source": [
    "### Seleção de Atributos\n",
    "\n",
    "Como demonstrei anteriormente, considerando os valores dos atributos para essa tarefa, é esperável que alguns atributos sejam irrelevantes para auxiliar na predição das instâncias. Esse tipo de seleção é usada tanto para otimizar a eficiência do algoritmo de machine learning, quanto para otimizar a sua acurácia.\n",
    "\n",
    "Para tanto, escolhi o método de seleção de atributos que estima a importancia para cada atributo após o treino dos dados com classificadores fracos, sendo que o classificador \"fraco\" selecionado para essa tarefa é o SVC linear (Linear Support Vector Classification), que é o algoritmo de classificação que usa SVM (Support Vector Machines) com um kernel linear.\n",
    "\n",
    "Esse classificador que é usado para predizer a importância dos atributos, estima uma linha que tenta otimizar a separação entre as instâncias positivas das negativas usando os valores do n-atributos. Assim, ele quantifica a importância de cada atributo segundo o erro que este atributo retorna considerando o valor esperado da predição. Nessas condições, quanto menor for o valor do hiper-parâmetro C (que é o hiper-parametro que restringe o erro máximo aceito para predição) menor será a quantidade de atributos que serão selecionados.\n",
    "\n",
    "Farei um breve experimento do valor mais adequado para o hiper-parametro combinando diferentes valores de C para cada um dos classificadores experimentados. Nomeadamente, vamos experimentar usando C = [0.0001,0.0005, 0.001, 0.005, 0.01]."
   ]
  },
  {
   "cell_type": "code",
   "execution_count": 14,
   "metadata": {
    "collapsed": true
   },
   "outputs": [],
   "source": [
    "from sklearn.svm import LinearSVC\n",
    "from sklearn.feature_selection import SelectFromModel\n",
    "selectors = [ \n",
    "    ('lSVC_0.0001', LinearSVC(C=0.0001, penalty=\"l1\", dual=False)),\n",
    "    ('lSVC_0.0005', LinearSVC(C=0.0005, penalty=\"l1\", dual=False)),\n",
    "    ('lSVC_0.001', LinearSVC(C=0.001, penalty=\"l1\", dual=False)),\n",
    "    ('lSVC_0.005', LinearSVC(C=0.005, penalty=\"l1\", dual=False)),\n",
    "    ('lSVC_0.01', LinearSVC(C=0.01, penalty=\"l1\", dual=False))\n",
    "]"
   ]
  },
  {
   "cell_type": "markdown",
   "metadata": {},
   "source": [
    "### Over Sampling\n",
    "\n",
    "É sabido que existe discrepância entre a quantidade de classes positivas e negativas na coleção. Assim, vou usar uma técnica denominada over-sampling para igualar a quantidade de instancias de cada classe. O objetivo é dar uma clara e variável demonstração para o modelo do que seriam instâncias positivas e negativas para cada um dos problemas.\n",
    "\n",
    "A tecnica de over-sampling que iremos aplicar é denominada SMOTE (Synthetic Minority Over-sampling Technique) e consiste de identificar grupos de instancias similares e replicar seus atributos usando um regressor fraco. Uma implementação desta técnica pode ser encontrada [aqui](http://contrib.scikit-learn.org/imbalanced-learn/stable/index.html). Tal implementação já leva em consideração os dados em formato DataFrame, contudo é preciso usar uma versão diferente de Pipeline para que seja viável seu uso.\n",
    "\n",
    "Assim como as outras tecnicas estatísticas, irei fixar o estado de inicialização para tornar os resultados replicáveis (e novamente será escolhido 42 como valor para tal)."
   ]
  },
  {
   "cell_type": "code",
   "execution_count": 15,
   "metadata": {
    "collapsed": true
   },
   "outputs": [],
   "source": [
    "from imblearn.over_sampling import SMOTE\n",
    "from imblearn.pipeline import Pipeline \n",
    "smote = SMOTE(random_state=42)"
   ]
  },
  {
   "cell_type": "markdown",
   "metadata": {},
   "source": [
    "## Classificação\n",
    "\n",
    "Agora que a coleção de dados já foi proriamente preprocessada, partimos para a classificação das instâncias. Cada uma das 3 abordagens usadas para a tarefa carregam características peculiares. Por exemplo, o Randomforest, que é um dos estados-da-arte para diferentes soluções de classificação, classifica os dados criando um conjunto de árvores de decisão e predizendo os valores de teste com base na combinação do resultado dessas árvores.\n",
    "\n",
    "Cada uma das árvores seleciona, aleatoriamente, uma quantidade de atributos e os ordena por aqueles que são mais discrepantes para predição na tarefa. A combinação dessas diferentes arvores que selecionam os atributos aleatoriamente tende resultar em boas predições, pois diminui a variancia final (que justificaria o overfitting) e tende a dar menos prioridade para atributos menos relevantes.\n",
    "\n",
    "Assim como o RandomForest, o AdaBoost combina o resultado de vários classificadores em uma predição final mais otimizada. Esse tipo de abordagem, denominada ensemble, pode ser usada em diferentes contextos e, em geral, apresenta bons resultados.\n",
    "\n",
    "Diferentemente do RandomForest, esse classificador não foca em atributos mais ou menos relevantes, mas sim em estimar vários classificadores para as instâncias mais \"obvias\" de se predizer. Assim, ele faz cópias desses sub-classificadores e alteram os pesos para que esses novos classificadores fiquem mais propícios às instâncias mais \"dificeis\" de predizer.\n",
    "\n",
    "Em outra via, encontra-se o Multi-Label Perceptron Classifier (MLPClassifier), que é uma técnica baseada em Redes Neuronais. Redes Nuronais tem sido mais frequentemente usadas recentemente, principalmente devido às otimizações que esses algoritmos têm recebido para placas gráficas, permintido que abordagens mais sofisticadas de Redes Neuronais estimem, em tempo viável, modelos mais complexos de predição. Redes Neuronais são recorrentemente usadas como analogia para o cérebro humano, contudo, há demonstrações de que esse tipo de algoritmo de aprendizagem de máquina está mais próximo de algoritmos de otimização não-lineares (como otimização convexa) do que de uma reprensentação digital do cérebro humano."
   ]
  },
  {
   "cell_type": "code",
   "execution_count": 16,
   "metadata": {
    "collapsed": true
   },
   "outputs": [],
   "source": [
    "from sklearn.ensemble import RandomForestClassifier, AdaBoostClassifier\n",
    "from sklearn.neural_network import MLPClassifier\n",
    "\n",
    "classifiers = [\n",
    "    ('AdaBoostClassifier', AdaBoostClassifier()),\n",
    "    ('RandomForest_300', RandomForestClassifier(random_state=42, n_estimators=300, max_depth=2)),\n",
    "    ('MLPClassifier', MLPClassifier(alpha=1))\n",
    "]"
   ]
  },
  {
   "cell_type": "markdown",
   "metadata": {},
   "source": [
    "## Avaliação\n",
    "\n",
    "Agora que todas as sub-etapas da criação dessa solução foram introduzidas, irei apresentar o processo de experimentação para a seleção do melhor modelo. Não levo em consideração abordagens paralelas e nem faço uso de funções mais escaláveis (como a GridSearchCV, que faz uma combinação todos-para-todos dos parâmetros usando validação cruzada) por didática da solução.\n",
    "\n",
    "Assim, farei uso exclusivamente da implementação de Pipeline do pacote imbalanced-learn, variando manualmente as configurações experimentadas.\n",
    "\n",
    "Ao final, apresento um result do AUC (Area Under Curve) do modelo, considerando a interpolação do ROC (Receiver Operating Characteristic) dos resultados esperados para o teste.\n",
    "\n",
    "O ROC é a curva gerada pelos eixos True Positive Rate (TPR) e False Positive Rate (FPR), que nada mais são do que a porcentagem de vezes que o algoritmo identifica as instâncias como positivas quando elas são realmente positivas e a porcentagem de vezes que o algoritmo identifica as instâncias como negativas quando elas são propriamente negativas, respectivamente."
   ]
  },
  {
   "cell_type": "code",
   "execution_count": 17,
   "metadata": {},
   "outputs": [
    {
     "name": "stdout",
     "output_type": "stream",
     "text": [
      "y_upsell 0.767 y_appe 0.772 y_churn 0.771 y_upsell 0.776 y_appe 0.784 y_churn 0.781 y_upsell 0.606 y_appe 0.597 y_churn 0.604 y_upsell 0.828 y_appe 0.829 y_churn 0.829 y_upsell 0.833 y_appe 0.840 y_churn 0.844 y_upsell 0.707 y_appe 0.666 y_churn 0.677 y_upsell 0.834 y_appe 0.835 y_churn 0.835 y_upsell 0.843 y_appe 0.842 y_churn 0.834 y_upsell 0.706 y_appe 0.709 y_churn 0.698 y_upsell 0.835 y_appe 0.836 y_churn 0.839 y_upsell 0.842 y_appe 0.841 y_churn 0.840 y_upsell 0.703 y_appe 0.703 y_churn 0.691 y_upsell 0.834 y_appe 0.831 y_churn 0.837 y_upsell 0.839 y_appe 0.837 y_churn 0.838 y_upsell 0.708 y_appe 0.705 y_churn 0.687 "
     ]
    }
   ],
   "source": [
    "resultados = {}\n",
    "for selector_name, selector in selectors:\n",
    "    for model_name, model in classifiers:\n",
    "        clf = Pipeline([\n",
    "            ('label_encoder', multi_encoder),\n",
    "            ('imputer', imputer),\n",
    "            ('min_max_scaler', minmax_scalar),\n",
    "            ('robust_scaler', robust_scalar),\n",
    "            (selector_name, SelectFromModel(selector)),\n",
    "            ('smote', smote),\n",
    "            (model_name, model)\n",
    "        ])\n",
    "        resultados['%s_%s' % (selector_name, model_name)] = []\n",
    "        for y_name, y in [('y_upsell',y_upsell), ('y_appe',y_appe), ('y_churn',y_churn)]:\n",
    "            result = cross_val_score(clf, X, y_upsell, cv=cv.split(X, y) , scoring='roc_auc')\n",
    "            resultados['%s_%s' % (selector_name, model_name)].extend(result)\n",
    "            print(y_name, '%.3f' % np.mean(result), end=' ')\n"
   ]
  },
  {
   "cell_type": "markdown",
   "metadata": {},
   "source": [
    "Assim, o modelo ideal para essa coleção de dados (considerando que a combinação de experimentos realizada foi estritamente limitada) é, na ordem:"
   ]
  },
  {
   "cell_type": "code",
   "execution_count": 19,
   "metadata": {},
   "outputs": [
    {
     "name": "stdout",
     "output_type": "stream",
     "text": [
      "lSVC_0.005_RandomForest_300 0.8408107898866561\n",
      "lSVC_0.001_RandomForest_300 0.8396373569815203\n",
      "lSVC_0.0005_RandomForest_300 0.838726937574723\n",
      "lSVC_0.01_RandomForest_300 0.8379140632899508\n",
      "lSVC_0.005_AdaBoostClassifier 0.8365783129667278\n",
      "lSVC_0.001_AdaBoostClassifier 0.834543219073298\n",
      "lSVC_0.01_AdaBoostClassifier 0.8341265030093582\n",
      "lSVC_0.0005_AdaBoostClassifier 0.8288009105657945\n",
      "lSVC_0.0001_RandomForest_300 0.7805875325315382\n",
      "lSVC_0.0001_AdaBoostClassifier 0.7701211017822427\n",
      "lSVC_0.001_MLPClassifier 0.7045716626251111\n",
      "lSVC_0.01_MLPClassifier 0.6998791857638419\n",
      "lSVC_0.005_MLPClassifier 0.6991275649053992\n",
      "lSVC_0.0005_MLPClassifier 0.6835930391700441\n",
      "lSVC_0.0001_MLPClassifier 0.6022101025637225\n"
     ]
    }
   ],
   "source": [
    "for config, results in sorted(resultados.items(), key=lambda x: np.mean(x[1]), reverse=True):\n",
    "    print(config, np.mean(results))"
   ]
  },
  {
   "cell_type": "markdown",
   "metadata": {},
   "source": [
    "Dessa forma, o resultado obtido pelo modelo apresentado aqui (0.8408) está relativamente próximo do melhor resultado para essa tarefa (IBM Research: 0.8493). Tais resultados do KDD Cup 2009 podem ser encontrados [aqui](http://www.vincentlemaire-labs.fr/kddcup2009/)."
   ]
  }
 ],
 "metadata": {
  "kernelspec": {
   "display_name": "Python 3",
   "language": "python",
   "name": "python3"
  },
  "language_info": {
   "codemirror_mode": {
    "name": "ipython",
    "version": 3
   },
   "file_extension": ".py",
   "mimetype": "text/x-python",
   "name": "python",
   "nbconvert_exporter": "python",
   "pygments_lexer": "ipython3",
   "version": "3.6.3"
  }
 },
 "nbformat": 4,
 "nbformat_minor": 2
}
